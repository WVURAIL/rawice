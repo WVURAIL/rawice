{
 "cells": [
  {
   "cell_type": "code",
   "execution_count": 1,
   "id": "revised-sigma",
   "metadata": {},
   "outputs": [],
   "source": [
    "%matplotlib inline"
   ]
  },
  {
   "cell_type": "code",
   "execution_count": 2,
   "id": "concrete-notification",
   "metadata": {},
   "outputs": [],
   "source": [
    "from rawice import *\n",
    "import matplotlib.pyplot as plt"
   ]
  },
  {
   "cell_type": "code",
   "execution_count": 3,
   "id": "traditional-warner",
   "metadata": {
    "scrolled": false
   },
   "outputs": [
    {
     "name": "stdout",
     "output_type": "stream",
     "text": [
      "/home/observer/data0/GBO_acq/data/20210602T193546Z_GBOs434/raw_acq/000000\n",
      "/home/observer/data0/GBO_acq/data/20210602T193546Z_GBOs434/raw_acq/000001\n",
      "/home/observer/data0/GBO_acq/data/20210602T193546Z_GBOs434/raw_acq/000002\n",
      "/home/observer/data0/GBO_acq/data/20210602T193546Z_GBOs434/raw_acq/000003\n",
      "/home/observer/data0/GBO_acq/data/20210602T193546Z_GBOs434/raw_acq/000004\n",
      "/home/observer/data0/GBO_acq/data/20210602T193546Z_GBOs434/raw_acq/000005\n",
      "/home/observer/data0/GBO_acq/data/20210602T193546Z_GBOs434/raw_acq/000006\n",
      "/home/observer/data0/GBO_acq/data/20210602T193546Z_GBOs434/raw_acq/000007\n",
      "/home/observer/data0/GBO_acq/data/20210602T193546Z_GBOs434/raw_acq/000008\n",
      "/home/observer/data0/GBO_acq/data/20210602T193546Z_GBOs434/raw_acq/000009\n",
      "/home/observer/data0/GBO_acq/data/20210602T193546Z_GBOs434/raw_acq/000010\n",
      "/home/observer/data0/GBO_acq/data/20210602T193546Z_GBOs434/raw_acq/000011\n",
      "/home/observer/data0/GBO_acq/data/20210602T193546Z_GBOs434/raw_acq/000012\n",
      "/home/observer/data0/GBO_acq/data/20210602T193546Z_GBOs434/raw_acq/000013\n",
      "/home/observer/data0/GBO_acq/data/20210602T193546Z_GBOs434/raw_acq/000014\n",
      "/home/observer/data0/GBO_acq/data/20210602T193546Z_GBOs434/raw_acq/000015\n",
      "/home/observer/data0/GBO_acq/data/20210602T193546Z_GBOs434/raw_acq/000016\n",
      "/home/observer/data0/GBO_acq/data/20210602T193546Z_GBOs434/raw_acq/000017\n",
      "/home/observer/data0/GBO_acq/data/20210602T193546Z_GBOs434/raw_acq/000018\n",
      "/home/observer/data0/GBO_acq/data/20210602T193546Z_GBOs434/raw_acq/000019\n",
      "Loaded raw acq HDF5 file ... .....................................................................] 0/20\n",
      "Checking input [0, 0, 13] ... \n",
      "Loaded raw acq HDF5 file ... .....................................................................] 1/20\n",
      "Checking input [0, 0, 13] ... \n",
      "Loaded raw acq HDF5 file ... .....................................................................] 2/20\n",
      "Checking input [0, 0, 13] ... \n",
      "Loaded raw acq HDF5 file ... #....................................................................] 3/20\n",
      "Checking input [0, 0, 13] ... \n",
      "Loaded raw acq HDF5 file ... #####................................................................] 4/20\n",
      "Checking input [0, 0, 13] ... \n",
      "Loaded raw acq HDF5 file ... #########............................................................] 5/20\n",
      "Checking input [0, 0, 13] ... \n",
      "Loaded raw acq HDF5 file ... #############........................................................] 6/20\n",
      "Checking input [0, 0, 13] ... \n",
      "Loaded raw acq HDF5 file ... #################....................................................] 7/20\n",
      "Checking input [0, 0, 13] ... \n",
      "Loaded raw acq HDF5 file ... #####################................................................] 8/20\n",
      "Checking input [0, 0, 13] ... \n",
      "Loaded raw acq HDF5 file ... #########################............................................] 9/20\n",
      "Checking input [0, 0, 13] ... \n",
      "Loaded raw acq HDF5 file ... #############################........................................] 10/20\n",
      "Checking input [0, 0, 13] ... \n",
      "Loaded raw acq HDF5 file ... #################################....................................] 11/20\n",
      "Checking input [0, 0, 13] ... \n",
      "Loaded raw acq HDF5 file ... #####################################................................] 12/20\n",
      "Checking input [0, 0, 13] ... \n",
      "Loaded raw acq HDF5 file ... #########################################............................] 13/20\n",
      "Checking input [0, 0, 13] ... \n",
      "Loaded raw acq HDF5 file ... #############################################........................] 14/20\n",
      "Checking input [0, 0, 13] ... \n",
      "Loaded raw acq HDF5 file ... #################################################....................] 15/20\n",
      "Checking input [0, 0, 13] ... \n",
      "Loaded raw acq HDF5 file ... #####################################################................] 16/20\n",
      "Checking input [0, 0, 13] ... \n",
      "Loaded raw acq HDF5 file ... #########################################################............] 17/20\n",
      "Checking input [0, 0, 13] ... \n",
      "Loaded raw acq HDF5 file ... #############################################################........] 18/20\n",
      "Checking input [0, 0, 13] ... \n",
      "Loaded raw acq HDF5 file ... #################################################################....] 19/20\n",
      "Checking input [0, 0, 13] ... \n",
      "Done Computing Delay: ############################################################################] 20/20\n",
      "\n",
      "DONE reading files and getting delays\n"
     ]
    }
   ],
   "source": [
    "input_to_check = [0,0,13]\n",
    "folder_path = \"/home/observer/data0/GBO_acq/data/20210602T193546Z_GBOs434/raw_acq/\"\n",
    "maser = analyse_maser(folder_path, input_to_check)"
   ]
  },
  {
   "cell_type": "code",
   "execution_count": 4,
   "id": "polish-evening",
   "metadata": {},
   "outputs": [
    {
     "ename": "AttributeError",
     "evalue": "'NoneType' object has no attribute 'savefig'",
     "output_type": "error",
     "traceback": [
      "\u001b[0;31m---------------------------------------------------------------------------\u001b[0m",
      "\u001b[0;31mAttributeError\u001b[0m                            Traceback (most recent call last)",
      "\u001b[0;32m<ipython-input-4-1a61bcb2e56f>\u001b[0m in \u001b[0;36m<module>\u001b[0;34m\u001b[0m\n\u001b[1;32m      1\u001b[0m \u001b[0mpmaser\u001b[0m \u001b[0;34m=\u001b[0m \u001b[0mmaser\u001b[0m\u001b[0;34m.\u001b[0m\u001b[0mplot_delays\u001b[0m\u001b[0;34m(\u001b[0m\u001b[0;34m)\u001b[0m\u001b[0;34m\u001b[0m\u001b[0;34m\u001b[0m\u001b[0m\n\u001b[0;32m----> 2\u001b[0;31m \u001b[0mpmaser\u001b[0m\u001b[0;34m.\u001b[0m\u001b[0msavefig\u001b[0m\u001b[0;34m(\u001b[0m\u001b[0;34m\"figure/gpsvmaser.png\"\u001b[0m\u001b[0;34m,\u001b[0m\u001b[0mdpi\u001b[0m \u001b[0;34m=\u001b[0m \u001b[0;36m300\u001b[0m\u001b[0;34m,\u001b[0m \u001b[0mformat\u001b[0m \u001b[0;34m=\u001b[0m \u001b[0;34m\"png\"\u001b[0m\u001b[0;34m,\u001b[0m \u001b[0mbbox_inches\u001b[0m\u001b[0;34m=\u001b[0m\u001b[0;34m'tight'\u001b[0m\u001b[0;34m)\u001b[0m\u001b[0;34m\u001b[0m\u001b[0;34m\u001b[0m\u001b[0m\n\u001b[0m",
      "\u001b[0;31mAttributeError\u001b[0m: 'NoneType' object has no attribute 'savefig'"
     ]
    },
    {
     "data": {
      "image/png": "[encoded data removed]",
      "text/plain": [
       "<Figure size 468x144 with 1 Axes>"
      ]
     },
     "metadata": {
      "needs_background": "light"
     },
     "output_type": "display_data"
    }
   ],
   "source": [
    "pmaser = maser.plot_delays()"
   ]
  },
  {
   "cell_type": "code",
   "execution_count": 5,
   "id": "cellular-section",
   "metadata": {},
   "outputs": [
    {
     "data": {
      "image/png": "[encoded data removed]",
      "text/plain": [
       "<Figure size 468x360 with 1 Axes>"
      ]
     },
     "metadata": {
      "needs_background": "light"
     },
     "output_type": "display_data"
    }
   ],
   "source": [
    "padev = maser.get_allan_deviation() # uses allantools.oadev\n"
   ]
  },
  {
   "cell_type": "code",
   "execution_count": null,
   "id": "specialized-stupid",
   "metadata": {},
   "outputs": [],
   "source": []
  },
  {
   "cell_type": "code",
   "execution_count": null,
   "id": "celtic-smile",
   "metadata": {},
   "outputs": [],
   "source": []
  },
  {
   "cell_type": "code",
   "execution_count": null,
   "id": "gentle-electricity",
   "metadata": {},
   "outputs": [],
   "source": []
  },
  {
   "cell_type": "markdown",
   "id": "american-groove",
   "metadata": {},
   "source": [
    "# CHECK SPECIFIC FILE"
   ]
  },
  {
   "cell_type": "code",
   "execution_count": null,
   "id": "korean-consultation",
   "metadata": {},
   "outputs": [],
   "source": [
    "file_name = \"/home//observer/data0/GBO_acq/data/20220428T233841Z_GBOs434/raw_acq/000003\"\n",
    "input_to_check = [0, 0, 13]\n",
    "raw_acq(file_name)\n",
    "maser = raw_acq.check_input(input_to_check)\n",
    "maser.inspect_maser()\n",
    "timestm = maser.time_fpga_count\n",
    "tsmt = (timestm - timestm[0])*2.56e-6/3600\n",
    "plt.figure()\n",
    "plt.scatter(tsmt, maser.tau/1e-9, s= 0.5, c = 'k', marker = '.')\n",
    "plt.xlabel(\"Hours\")\n",
    "plt.ylabel(r\" $\\Delta(\\tau)$ (ns)\")\n",
    "(taus, adevs, errors, ns) = allan.oadev(maser.tau, taus = (timestm - timestm[0])*2.56e-6)\n",
    "plt.figure()\n",
    "plt.loglog(taus,adevs, c = 'k', lw = 1)\n",
    "\n",
    "plt.ylabel(\"Allan Deviation\")\n",
    "plt.xlabel(\"Time (s)\")\n",
    "plt.grid()"
   ]
  },
  {
   "cell_type": "code",
   "execution_count": null,
   "id": "northern-chess",
   "metadata": {},
   "outputs": [],
   "source": []
  }
 ],
 "metadata": {
  "kernelspec": {
   "display_name": "py37mkl",
   "language": "python",
   "name": "py37mkl"
  },
  "language_info": {
   "codemirror_mode": {
    "name": "ipython",
    "version": 3
   },
   "file_extension": ".py",
   "mimetype": "text/x-python",
   "name": "python",
   "nbconvert_exporter": "python",
   "pygments_lexer": "ipython3",
   "version": "3.7.10"
  }
 },
 "nbformat": 4,
 "nbformat_minor": 5
}
