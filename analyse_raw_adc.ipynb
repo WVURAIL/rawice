{
 "cells": [
  {
   "cell_type": "code",
   "execution_count": null,
   "id": "constant-investing",
   "metadata": {
    "scrolled": false
   },
   "outputs": [],
   "source": [
    "from rawice import *\n",
    "import matplotlib.pyplot as plt\n",
    "\n",
    "folder_path = \"/home/observer/data0/GBO_acq/data/*/raw_acq/*\"\n",
    "try:\n",
    "    file_name = get_newest_file(folder_path)\n",
    "    raw_acq(file_name, False)\n",
    "except OSError:\n",
    "    file_name = get_second_newest_file(folder_path)\n",
    "    raw_acq(file_name, False)\n",
    "\n"
   ]
  },
  {
   "cell_type": "code",
   "execution_count": null,
   "id": "afraid-teaching",
   "metadata": {},
   "outputs": [],
   "source": [
    "crate_number = 0 \n",
    "slot_number = 0\n",
    "\n",
    "figrms = plt.figure(figsize=(11.69, 8.27))\n",
    "figfft = plt.figure(figsize=(11.69, 8.27))\n",
    "fighist = plt.figure(figsize=(11.69, 8.27))\n",
    "\n",
    "figrms.suptitle(\n",
    "    f\"ADC RMS        START: {raw_acq.start_time} STOP: {raw_acq.end_time}\\n crate no.:{crate_number} slot no.:{crate_number}\", y=1\n",
    ")\n",
    "figfft.suptitle(\n",
    "    f\"FFT MAG        START: {raw_acq.start_time} STOP:{raw_acq.end_time} \\n crate no.:{crate_number} slot no.:{crate_number}\", y=1\n",
    ")\n",
    "fighist.suptitle(\n",
    "    f\"ADC Histogram START: {raw_acq.start_time} STOP:{raw_acq.end_time} \\n crate no.:{crate_number} slot no.:{crate_number} \", y=1\n",
    ")\n",
    "\n",
    "\n",
    "rms_above_threshold = {}\n",
    "rms_below_threshold = {}\n",
    "\n",
    "for i in range(16):\n",
    "    input_to_check = [crate_number, slot_number, i]\n",
    "    raw = raw_acq.check_input(input_to_check)\n",
    "    rms = raw.rms\n",
    "    if np.median(rms) > 60:\n",
    "        rms_above_threshold[i] = \"ADC RMS above 60\"\n",
    "    if np.median(rms) < 8:\n",
    "        rms_below_threshold[i] = \"ADC RMS below 8\"\n",
    "    fft = raw.mag_fft\n",
    "    ts = raw.fpgac\n",
    "    times = (ts - ts[0])*2.56e-6/60\n",
    "    axrms = figrms.add_subplot(4, 4, i+1)\n",
    "    axrms.scatter(times, rms, s=1, c='k', rasterized=True)\n",
    "    axrms.set_title(f'input: {i}')\n",
    "    axrms.set_xlabel('minutes')\n",
    "    axrms.axhline([128], lw=0.5, c='r')\n",
    "    axrms.axhline([0], lw=0.5, c='r')\n",
    "    axfft = figfft.add_subplot(4, 4, i+1)\n",
    "    axfft.imshow(\n",
    "        fft,\n",
    "        aspect='auto',\n",
    "        vmin=np.percentile(fft, 5),\n",
    "        vmax=np.percentile(fft, 95),\n",
    "        extent=[800, 400, times[-1], times[0]],\n",
    "        interpolation='none',\n",
    "        rasterized=True\n",
    "    )\n",
    "    axfft.set_title(f'input: {i}')\n",
    "    axfft.set_ylabel(\"minutes\")\n",
    "    axfft.set_xlabel(\"Hz\")\n",
    "    inp0 = np.where(raw_acq.adc_input[:] == i)[0]\n",
    "    ant0_data = raw_acq.timestream[:][inp0]\n",
    "    ant0_data = ant0_data[:]\n",
    "    axhist = fighist.add_subplot(4, 4, i+1)\n",
    "    hist, bin_edges = np.histogram(ant0_data, bins=256,  density=True)\n",
    "    axhist.step(bin_edges[1:], hist, where='mid', c='k', rasterized=True)\n",
    "    axhist.set_title(f'input: {i}')\n",
    "    axhist.set_xlim([-129, 129])\n",
    "    \n",
    "    \n",
    "#pp = PdfPages(f\"{SAVE_DIR}{raw_acq.start_time}_{raw_acq.end_time}_raw_acq.pdf\")\n",
    "#pp.savefig(figrms)\n",
    "#pp.savefig(figfft)\n",
    "#pp.savefig(fighist)\n",
    "#pp.close()"
   ]
  },
  {
   "cell_type": "code",
   "execution_count": null,
   "id": "clean-nudist",
   "metadata": {},
   "outputs": [],
   "source": [
    "raw.time_streams.shape"
   ]
  },
  {
   "cell_type": "code",
   "execution_count": null,
   "id": "chief-corporation",
   "metadata": {},
   "outputs": [],
   "source": [
    "hist.shape"
   ]
  },
  {
   "cell_type": "code",
   "execution_count": null,
   "id": "reverse-mason",
   "metadata": {},
   "outputs": [],
   "source": [
    "rms.shape"
   ]
  },
  {
   "cell_type": "code",
   "execution_count": null,
   "id": "warming-infection",
   "metadata": {},
   "outputs": [],
   "source": []
  },
  {
   "cell_type": "code",
   "execution_count": null,
   "id": "computational-easter",
   "metadata": {},
   "outputs": [],
   "source": []
  },
  {
   "cell_type": "code",
   "execution_count": null,
   "id": "democratic-paste",
   "metadata": {},
   "outputs": [],
   "source": []
  },
  {
   "cell_type": "code",
   "execution_count": null,
   "id": "latin-creation",
   "metadata": {},
   "outputs": [],
   "source": [
    "# maser input\n",
    "input_to_check = [0, 0, 13]\n",
    "raw = raw_acq.check_input(input_to_check)\n",
    "raw.plot_single_input_diagnostics()\n",
    "plt.figure()\n",
    "plt.plot(raw.mag_fft[100,:100])\n",
    "plt.figure()\n",
    "plt.plot(raw.angle_fft[100,:100])\n",
    "tenMHz_index = int(np.round(10/(400/1024)))\n",
    "angles = raw.angle_fft[:,tenMHz_index]/2/np.pi\n",
    "angles = angles - angles[0]\n",
    "tau = angles/10e6\n",
    "timestm = raw.time_stamps['fpga_count']\n",
    "tsmt = (timestm - timestm[0])*2.56e-6/3600\n",
    "plt.figure()\n",
    "plt.scatter(tsmt, tau/1e-9, s= 1)\n",
    "plt.xlabel(\"Hours\")\n",
    "plt.ylabel(\"ns\")"
   ]
  },
  {
   "cell_type": "code",
   "execution_count": null,
   "id": "overall-startup",
   "metadata": {
    "scrolled": true
   },
   "outputs": [],
   "source": [
    "# skyworks\n",
    "input_to_check = [0, 0, 12]\n",
    "raw = raw_acq.check_input(input_to_check)\n",
    "raw.plot_single_input_diagnostics()\n"
   ]
  },
  {
   "cell_type": "code",
   "execution_count": null,
   "id": "appointed-constraint",
   "metadata": {},
   "outputs": [],
   "source": [
    "input_to_check = [0, 0, 15]\n",
    "raw = raw_acq.check_input(input_to_check)\n",
    "raw.plot_single_input_diagnostics()"
   ]
  },
  {
   "cell_type": "code",
   "execution_count": null,
   "id": "responsible-cursor",
   "metadata": {},
   "outputs": [],
   "source": []
  },
  {
   "cell_type": "code",
   "execution_count": null,
   "id": "intermediate-jesus",
   "metadata": {},
   "outputs": [],
   "source": []
  },
  {
   "cell_type": "code",
   "execution_count": null,
   "id": "promising-accident",
   "metadata": {},
   "outputs": [],
   "source": []
  },
  {
   "cell_type": "code",
   "execution_count": null,
   "id": "existing-roads",
   "metadata": {
    "tags": []
   },
   "outputs": [],
   "source": []
  },
  {
   "cell_type": "code",
   "execution_count": null,
   "id": "protecting-upgrade",
   "metadata": {
    "scrolled": false
   },
   "outputs": [],
   "source": [
    "raw_acq_folder = \"/home/observer/data0/GBO_acq/data/20220107T071802Z_GBOs434/raw_acq/\"\n",
    "file_name = \"/home/observer/data0/GBO_acq/data/20210602T193546Z_GBOs434/raw_acq/000006\"\n",
    "input_to_check = [0, 0, 9] # crate_number, slot_number,input_number)\n",
    "raw_acq(file_name, False)\n",
    "raw_acq.check_input(input_to_check)\n",
    "check_crate = 0\n",
    "check_slot = 0\n",
    "raw_acq.check_iceboard(check_crate, check_slot)"
   ]
  },
  {
   "cell_type": "code",
   "execution_count": null,
   "id": "innovative-suffering",
   "metadata": {},
   "outputs": [],
   "source": []
  },
  {
   "cell_type": "code",
   "execution_count": null,
   "id": "appropriate-ridge",
   "metadata": {
    "scrolled": false
   },
   "outputs": [],
   "source": [
    "crate_number = 0 \n",
    "slot_number = 0\n",
    "\n",
    "\n",
    "figrms = plt.figure(figsize=(11.69, 8.27))\n",
    "figfft = plt.figure(figsize=(11.69, 8.27))\n",
    "fighist = plt.figure(figsize=(11.69, 8.27))\n",
    "\n",
    "figrms.suptitle(\n",
    "    f\"ADC RMS        START: {raw_acq.start_time} STOP: {raw_acq.end_time}\\n crate no.:{crate_number} slot no.:{crate_number}\", y=1\n",
    ")\n",
    "figfft.suptitle(\n",
    "    f\"FFT MAG        START: {raw_acq.start_time} STOP:{raw_acq.end_time} \\n crate no.:{crate_number} slot no.:{crate_number}\", y=1\n",
    ")\n",
    "fighist.suptitle(\n",
    "    f\"ADC Histogram START: {raw_acq.start_time} STOP:{raw_acq.end_time} \\n crate no.:{crate_number} slot no.:{crate_number} \", y=1\n",
    ")\n",
    "\n",
    "\n",
    "rms_above_threshold = {}\n",
    "rms_below_threshold = {}\n",
    "\n",
    "for i in range(16):\n",
    "    input_to_check = [crate_number, slot_number, i]\n",
    "    raw = raw_acq.check_input(input_to_check)\n",
    "    rms = raw.rms\n",
    "    if np.median(rms) > 60:\n",
    "        rms_above_threshold[i] = \"ADC RMS above 60\"\n",
    "    if np.median(rms) < 8:\n",
    "        rms_below_threshold[i] = \"ADC RMS below 8\"\n",
    "    fft = raw.mag_fft\n",
    "    ts = raw.fpgac\n",
    "    times = (ts - ts[0])*2.56e-6/60\n",
    "    axrms = figrms.add_subplot(4, 4, i+1)\n",
    "    axrms.scatter(times, rms, s=1, c='k', rasterized=True)\n",
    "    axrms.set_title(f'input: {i}')\n",
    "    axrms.set_xlabel('minutes')\n",
    "    axrms.axhline([128], lw=0.5, c='r')\n",
    "    axrms.axhline([0], lw=0.5, c='r')\n",
    "    axfft = figfft.add_subplot(4, 4, i+1)\n",
    "    axfft.imshow(\n",
    "        fft,\n",
    "        aspect='auto',\n",
    "        vmin=np.percentile(fft, 5),\n",
    "        vmax=np.percentile(fft, 95),\n",
    "        extent=[800, 400, times[-1], times[0]],\n",
    "        interpolation='none',\n",
    "        rasterized=True\n",
    "    )\n",
    "    axfft.set_title(f'input: {i}')\n",
    "    axfft.set_ylabel(\"minutes\")\n",
    "    axfft.set_xlabel(\"Hz\")\n",
    "    inp0 = np.where(raw_acq.adc_input[:] == i)[0]\n",
    "    ant0_data = raw_acq.timestream[:][inp0]\n",
    "    ant0_data = ant0_data[:]\n",
    "    axhist = fighist.add_subplot(4, 4, i+1)\n",
    "    hist, bin_edges = np.histogram(ant0_data, bins=256,  density=True)\n",
    "    axhist.step(bin_edges[1:], hist, where='mid', c='k', rasterized=True)\n",
    "    axhist.set_title(f'input: {i}')\n",
    "    axhist.set_xlim([-129, 129])\n",
    "    \n",
    "#pp = PdfPages(f\"{SAVE_DIR}{raw_acq.start_time}_{raw_acq.end_time}_raw_acq.pdf\")\n",
    "#pp.savefig(figrms)\n",
    "#pp.savefig(figfft)\n",
    "#pp.savefig(fighist)\n",
    "#pp.close()"
   ]
  },
  {
   "cell_type": "code",
   "execution_count": null,
   "id": "technical-westminster",
   "metadata": {},
   "outputs": [],
   "source": []
  },
  {
   "cell_type": "code",
   "execution_count": null,
   "id": "rotary-shell",
   "metadata": {
    "scrolled": false
   },
   "outputs": [],
   "source": [
    "file_name = \"/home/observer/data0/GBO_acq/data/20210602T193546Z_GBOs434/raw_acq/000000\"\n",
    "file_name = \"/home//observer/data0/GBO_acq/data/20220428T233841Z_GBOs434/raw_acq/000023\"\n",
    "raw_acq(file_name, False)\n",
    "input_to_check = [0, 0, 10] # crate_number, slot_number,input_number)\n",
    "k = raw_acq.check_input(input_to_check)\n",
    "ts = k.time_stamps[\"fpga_count\"]\n",
    "plt.figure()\n",
    "plt.scatter(ts,k.rms)"
   ]
  },
  {
   "cell_type": "code",
   "execution_count": null,
   "id": "challenging-census",
   "metadata": {},
   "outputs": [],
   "source": [
    "raw_acq_folder = \"/home/observer/data0/GBO_acq/data/20220428T233841Z_GBOs434/\"\n",
    "file_name = \"/home/observer/data0/GBO_acq/data/20220428T233841Z_GBOs434/raw_acq/000000\"\n",
    "raw_acq(file_name)\n",
    "check_crate = 0\n",
    "check_slot = 0\n",
    "raw_acq.check_iceboard(check_crate, check_slot)"
   ]
  },
  {
   "cell_type": "code",
   "execution_count": null,
   "id": "administrative-carbon",
   "metadata": {},
   "outputs": [],
   "source": [
    "# skyworks\n",
    "input_to_check = [0, 0, 10]\n",
    "raw = raw_acq.check_input(input_to_check)\n",
    "raw.plot_single_input_diagnostics()\n"
   ]
  },
  {
   "cell_type": "code",
   "execution_count": null,
   "id": "opposed-renaissance",
   "metadata": {},
   "outputs": [],
   "source": []
  },
  {
   "cell_type": "code",
   "execution_count": null,
   "id": "union-mississippi",
   "metadata": {},
   "outputs": [],
   "source": []
  },
  {
   "cell_type": "code",
   "execution_count": null,
   "id": "developed-baker",
   "metadata": {
    "scrolled": false
   },
   "outputs": [],
   "source": [
    "for i in range(16):\n",
    "    input_to_check = [0, 0, i] # crate_number, slot_number,input_number)\n",
    "    raw_acq.check_input(input_to_check)"
   ]
  },
  {
   "cell_type": "code",
   "execution_count": null,
   "id": "absent-reading",
   "metadata": {},
   "outputs": [],
   "source": []
  },
  {
   "cell_type": "code",
   "execution_count": null,
   "id": "blocked-advocacy",
   "metadata": {},
   "outputs": [],
   "source": []
  },
  {
   "cell_type": "code",
   "execution_count": null,
   "id": "passive-hardwood",
   "metadata": {},
   "outputs": [],
   "source": []
  },
  {
   "cell_type": "code",
   "execution_count": null,
   "id": "fabulous-liechtenstein",
   "metadata": {},
   "outputs": [],
   "source": []
  },
  {
   "cell_type": "code",
   "execution_count": null,
   "id": "preliminary-explanation",
   "metadata": {},
   "outputs": [],
   "source": [
    "raw_acq_folder = \"/home/observer/data0/GBO_acq/data/20220428T233841Z_GBOs434/\"\n",
    "file_name = \"/home/observer/data0/GBO_acq/data/20220428T233841Z_GBOs434/raw_acq/000004\"\n",
    "raw_acq(file_name)"
   ]
  },
  {
   "cell_type": "code",
   "execution_count": null,
   "id": "spare-document",
   "metadata": {},
   "outputs": [],
   "source": []
  },
  {
   "cell_type": "code",
   "execution_count": null,
   "id": "official-bedroom",
   "metadata": {
    "scrolled": false
   },
   "outputs": [],
   "source": [
    "# skyworks\n",
    "input_to_check = [0, 0, 10]\n",
    "raw = raw_acq.check_input(input_to_check)\n",
    "raw.plot_single_input_diagnostics()\n"
   ]
  },
  {
   "cell_type": "code",
   "execution_count": null,
   "id": "neural-republican",
   "metadata": {},
   "outputs": [],
   "source": []
  },
  {
   "cell_type": "code",
   "execution_count": null,
   "id": "valued-invalid",
   "metadata": {
    "jupyter": {
     "outputs_hidden": true
    },
    "tags": []
   },
   "outputs": [],
   "source": [
    "for i in range(16):\n",
    "    input_to_check = [0, 0, i] # crate_number, slot_number,input_number)\n",
    "    raw_acq.check_input(input_to_check)"
   ]
  },
  {
   "cell_type": "code",
   "execution_count": null,
   "id": "adolescent-mills",
   "metadata": {},
   "outputs": [],
   "source": [
    "raw_acq_folder = \"/home/observer/data0/GBO_acq/data/20220428T233841Z_GBOs434/\"\n",
    "file_name = \"/home/observer/data0/GBO_acq/data/20220428T233841Z_GBOs434/raw_acq/000005\"\n",
    "raw_acq(file_name)"
   ]
  },
  {
   "cell_type": "code",
   "execution_count": null,
   "id": "ongoing-jefferson",
   "metadata": {
    "scrolled": false
   },
   "outputs": [],
   "source": [
    "for i in range(16):\n",
    "    input_to_check = [0, 0, i] # crate_number, slot_number,input_number)\n",
    "    raw_acq.check_input(input_to_check)"
   ]
  },
  {
   "cell_type": "code",
   "execution_count": null,
   "id": "optimum-acceptance",
   "metadata": {},
   "outputs": [],
   "source": [
    "file_name = \"/home/observer/data0/GBO_acq/data/20220\"\n",
    "raw_acq(file_name)\n",
    "input_to_check = [0, 0, 16] # crate_number, slot_number,input_number)\n",
    "raw_acq.check_input(input_to_check)\n",
    "check_crate = 0\n",
    "check_slot = 0\n",
    "raw_acq.check_iceboard(check_crate, check_slot)"
   ]
  },
  {
   "cell_type": "code",
   "execution_count": null,
   "id": "wicked-knitting",
   "metadata": {},
   "outputs": [],
   "source": [
    "x = raw_acq.check_input([0,0,13])"
   ]
  },
  {
   "cell_type": "code",
   "execution_count": null,
   "id": "spectacular-graduate",
   "metadata": {},
   "outputs": [],
   "source": [
    "plt.figure(figsize=(15,5))\n",
    "plt.plot(x.time_streams[0])"
   ]
  },
  {
   "cell_type": "code",
   "execution_count": null,
   "id": "leading-blank",
   "metadata": {},
   "outputs": [],
   "source": [
    "x.time_stamps['fpga_count']"
   ]
  },
  {
   "cell_type": "code",
   "execution_count": null,
   "id": "czech-spoke",
   "metadata": {},
   "outputs": [],
   "source": [
    "x.time_streams.shape"
   ]
  },
  {
   "cell_type": "code",
   "execution_count": null,
   "id": "rough-humanity",
   "metadata": {},
   "outputs": [],
   "source": [
    "file_name = \"/home/observer/data0/GBO_acq/data/20220426T194356Z_GBOs434/raw_acq/000000\"\n",
    "raw_acq(file_name)\n",
    "input_to_check = [0, 0, 9] # crate_number, slot_number,input_number)\n",
    "raw_acq.check_input(input_to_check)\n",
    "check_crate = 0\n",
    "check_slot = 0\n",
    "raw_acq.check_iceboard(check_crate, check_slot)"
   ]
  },
  {
   "cell_type": "code",
   "execution_count": null,
   "id": "blond-charles",
   "metadata": {},
   "outputs": [],
   "source": []
  }
 ],
 "metadata": {
  "kernelspec": {
   "display_name": "chimefrb",
   "language": "python",
   "name": "chimefrb"
  },
  "language_info": {
   "codemirror_mode": {
    "name": "ipython",
    "version": 3
   },
   "file_extension": ".py",
   "mimetype": "text/x-python",
   "name": "python",
   "nbconvert_exporter": "python",
   "pygments_lexer": "ipython3",
   "version": "3.7.3"
  }
 },
 "nbformat": 4,
 "nbformat_minor": 5
}
